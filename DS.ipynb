{
 "cells": [
  {
   "cell_type": "code",
   "execution_count": null,
   "id": "neither-portland",
   "metadata": {},
   "outputs": [],
   "source": [
    "#import all relevant modules\n",
    "\n",
    "import time\n",
    "import timeit\n",
    "from time import perf_counter_ns\n",
    "import matplotlib.pyplot as plt\n",
    "import numpy as np\n",
    "from numpy import array, exp"
   ]
  },
  {
   "cell_type": "markdown",
   "id": "adjacent-invitation",
   "metadata": {},
   "source": [
    "# Linked Lists\n",
    "\n",
    "## Introduction\n",
    "\n",
    "A linked list is a linear sequential data structure consisting of a chain of nodes in which each node contains a value and a pointer to the next node in the chain. Each node stores an item of data and contains a reference to the next node in the list. To access any element in the chain, the head element must be accessed first.  The head pointer points to the first node, and the last element of the list points to null. When the list is empty, the head pointer points to null. This ensures that the last element has been reached and that there are no more nodes connected. A linked list carries out many main operations such as list traversal, insertion and removal of elements. \n",
    "\n",
    "## Why use Linked Lists?\n",
    "\n",
    "Linked lists are used as an alternative to the use of arrays when arrays are not suitable. The array is more centralized, occupying contiguous memory, meaning an array takes up a block of memory, where each element in the array is situated beside another element within the array. Linked lists offer an advantage over arrays in this respect as they are distributed and spread out through the memory meaning linked list allows for efficient insertion/ removal of elements from a list and increasing the size of the list is possible even without occupying a  contiguous block of memory. \n"
   ]
  },
  {
   "cell_type": "code",
   "execution_count": null,
   "id": "behind-singapore",
   "metadata": {},
   "outputs": [],
   "source": [
    "#implement class node and myLinkedList\n",
    "\n",
    "class Node:\n",
    "    def __init__(self, items):\n",
    "        self.items = items\n",
    "        self.node = None\n",
    "        \n",
    "class myLinkedList:\n",
    "    def __init__(self):\n",
    "        self.first_node = None\n",
    "\n",
    "    def list_traversal(self):\n",
    "        if self.first_node is None:\n",
    "            print(\"No elements in List\")\n",
    "            return\n",
    "        else:\n",
    "            all_nodes = self.first_node\n",
    "            while all_nodes is not None:\n",
    "                print(all_nodes.items)\n",
    "                all_nodes = all_nodes.node\n",
    "\n",
    "    def add_first(self, items):\n",
    "            times = [] #implement running time list\n",
    "            start = time.perf_counter_ns() # start timer\n",
    "            new_node = Node(items)\n",
    "            new_node.node = self.first_node\n",
    "            self.first_node= new_node\n",
    "            times.append((time.perf_counter_ns() - start))\n",
    "            print(times)\n",
    "\n",
    "    def add_last(self, items):\n",
    "            times = []\n",
    "            new_node = Node(items)\n",
    "            if self.first_node is None:\n",
    "                self.first_node = new_node\n",
    "                return\n",
    "            start = time.perf_counter_ns()\n",
    "            all_nodes = self.first_node\n",
    "            while all_nodes.node is not None:\n",
    "                all_nodes= all_nodes.node\n",
    "            all_nodes.node = new_node;\n",
    "            times.append((time.perf_counter_ns() - start))\n",
    "            print(times)\n",
    "            \n",
    "    def remove_first(self):\n",
    "        if self.first_node is None:\n",
    "            print(\"No node to remove\")\n",
    "            return \n",
    "        self.first_node = self.first_node.node\n",
    "        \n",
    "    def is_empty(self):\n",
    "        if self.first_node is None:\n",
    "            return True\n",
    "        else:\n",
    "            return False\n",
    "  \n",
    "\n"
   ]
  },
  {
   "cell_type": "markdown",
   "id": "entertaining-treasure",
   "metadata": {},
   "source": [
    "## Part 1 Q1 - Implementation of Linked List"
   ]
  },
  {
   "cell_type": "code",
   "execution_count": null,
   "id": "expensive-commercial",
   "metadata": {},
   "outputs": [],
   "source": [
    "#variable LL1 instantiates class\n",
    "LL1 = myLinkedList()\n",
    "#add 5 at end of list\n",
    "LL1.add_last(5)\n",
    "LL1.add_last(10)\n",
    "LL1.add_last(150)\n",
    "LL1.add_last(2000)"
   ]
  },
  {
   "cell_type": "code",
   "execution_count": null,
   "id": "personalized-checklist",
   "metadata": {},
   "outputs": [],
   "source": [
    "#traverse list\n",
    "LL1.list_traversal()"
   ]
  },
  {
   "cell_type": "code",
   "execution_count": null,
   "id": "sacred-favorite",
   "metadata": {},
   "outputs": [],
   "source": [
    "#add element at start of list\n",
    "#increase element size to see if running times change\n",
    "LL1.add_first(20)"
   ]
  },
  {
   "cell_type": "code",
   "execution_count": null,
   "id": "naked-russian",
   "metadata": {},
   "outputs": [],
   "source": [
    "LL1.add_first(200)"
   ]
  },
  {
   "cell_type": "code",
   "execution_count": null,
   "id": "broke-proof",
   "metadata": {},
   "outputs": [],
   "source": [
    "LL1.add_first(2000)"
   ]
  },
  {
   "cell_type": "code",
   "execution_count": null,
   "id": "coordinate-evaluation",
   "metadata": {},
   "outputs": [],
   "source": [
    "#plot the running times\n",
    "\n",
    "plt.plot([10, 150, 2000], [826, 886, 788], label='add_last')\n",
    "plt.plot([20, 200, 2000], [4349, 4989, 3901], label='add_first')\n",
    "plt.xlabel(\"Increasing size\")\n",
    "plt.ylabel(\"Time (ns)\")\n",
    "plt.title(\"Running Times (ns) of add_first and add_last operations\")\n",
    "plt.legend()\n",
    "plt.savefig('Linked_Lists_running_times.pdf')"
   ]
  },
  {
   "cell_type": "markdown",
   "id": "corresponding-tennis",
   "metadata": {},
   "source": [
    "## Fast Insertion/Deletion of Elements\n",
    "Inserting a new node to the beginning or end of a linked list or deleting an element operates at constant time (O(1)) as the only steps are to initialize a new node or remove a node and then update the pointers, therefore, the operation is quick. This can be seen in the graph above.\n",
    "\n",
    "Information from:\n",
    "https://pankaj-rai16.medium.com/know-your-data-structure-linked-list-4b00fcfbda93#:~:text=In%20terms%20of%20time%20complexity,it's%20just%20O(1)."
   ]
  },
  {
   "cell_type": "code",
   "execution_count": null,
   "id": "alive-newton",
   "metadata": {},
   "outputs": [],
   "source": [
    "#traverse list\n",
    "LL1.list_traversal()"
   ]
  },
  {
   "cell_type": "code",
   "execution_count": null,
   "id": "prescribed-antique",
   "metadata": {},
   "outputs": [],
   "source": [
    "#remove first element\n",
    "LL1.remove_first()"
   ]
  },
  {
   "cell_type": "code",
   "execution_count": null,
   "id": "retained-marina",
   "metadata": {},
   "outputs": [],
   "source": [
    "LL1.list_traversal()"
   ]
  },
  {
   "cell_type": "code",
   "execution_count": null,
   "id": "municipal-crisis",
   "metadata": {},
   "outputs": [],
   "source": [
    "#check if list is empty...returns a boolean\n",
    "LL1.is_empty()"
   ]
  },
  {
   "cell_type": "markdown",
   "id": "anticipated-monroe",
   "metadata": {},
   "source": [
    "## Part 1 Q2 Stack ADT\n",
    "\n",
    "Stack abstract data types (ADT) are a linear data structure type where operations such as insertion and deletion are carried out at one end of the stack, in this case the top of the stack. This means adding and deleting elements occurs from the top of the stack. Stack ADT functions as a \"Last In First Out\" (LIFO) system.\n",
    "\n",
    "Fundamental methods;\n",
    "##### •  \"Push\" i.e insert element\n",
    "##### •  \"Pop\" i.e delete element\n",
    "    \n",
    "Support methods;\n",
    "##### • size() - Return the number of objects in the queue\n",
    "##### • is_empty() - Return boolean true if the queue is empty\n",
    "##### • display() or \"Peek\" i.e display top element\n",
    "    \n",
    " \n",
    "### Application 1: Stack of Pringles\n",
    "Consider a stack of pringle crisps, the last pringle added is the first pringle on top, if you want to get the last pringle in the stack you need to remove each one from the top until you reach the last one. The first pringle you take on top is the last one that was added into the stack i.e follows the LIFO system.\n",
    "\n",
    "\n",
    "### Application 2: Stack of Dishes\n",
    "Consider a stack of newly washed plates in a canteen, the first one that is on the top was the last one washed, if you want the last plate, you need to remove all other plates first. It also operates on the LIFO system. \n"
   ]
  },
  {
   "cell_type": "markdown",
   "id": "concerned-creator",
   "metadata": {},
   "source": [
    "## Q2 Queue ADT\n",
    "\n",
    "Queue abstract data types (ADT) are a linear data structure type that uses operations such as insertion and deletion that are carried out at two different ends of a queue i.e the insertion operation is performed at the \"rear\" or \"end\" position and the deletion occurs at the \"front\" or \"beginning\" position. Queue ADT functions as a \"First In First Out\" (FIFO) system.\n",
    "\n",
    "Fundamental methods;\n",
    "##### • enqueue() - Insert an object at the rear of queue\n",
    "##### • dequeue() - Remove an object from the head of queue and return it \n",
    "\n",
    "Support methods;\n",
    "##### • size() - Return the number of objects in the queue\n",
    "##### • is_empty() - Return boolean true if the queue is empty\n",
    "##### • front() - Return an object at the head of the queue, but do not remove from queue\n",
    "\n",
    "### Application 1: Drive-thru Cinema\n",
    " Consider a queue of people at drive-thru cinema: The person who comes first gets the ticket first. The person who is coming last is getting the tickets in last. Therefore, it follows first-in-first-out (FIFO) strategy of queue.\n",
    " \n",
    "### Application 2: Airport boarding\n",
    "Consider a queue of people boarding, the people who board first get onto the plane first, the people who board last get on the plane last. Therefore, it follows first-in-first-out (FIFO) strategy of queue."
   ]
  },
  {
   "cell_type": "markdown",
   "id": "vietnamese-gilbert",
   "metadata": {},
   "source": [
    "## Part 3 Q1 - Implementation of Stack ADT"
   ]
  },
  {
   "cell_type": "code",
   "execution_count": null,
   "id": "criminal-palace",
   "metadata": {},
   "outputs": [],
   "source": [
    "#implement stack adt class\n",
    "class Stack:\n",
    "\n",
    "    def __init__(self):\n",
    "        self.stack = []\n",
    "\n",
    "    def pop(self):\n",
    "        #create running times  list\n",
    "        times = []\n",
    "        start = time.perf_counter_ns()#start running times\n",
    "        if len(self.stack) < 1:\n",
    "            return None\n",
    "        self.stack = self.stack[:-1]\n",
    "        times.append((time.perf_counter_ns() - start)) #end running times\n",
    "        print(\"running times:\",times)\n",
    "        return self.stack\n",
    "\n",
    "    def push(self, item):\n",
    "        times = []\n",
    "        start = time.perf_counter_ns()\n",
    "        self.stack.append(item)\n",
    "        times.append((time.perf_counter_ns() - start))\n",
    "        print(\"running times:\",times)\n",
    "        print(\"values:\", self.stack)\n",
    "\n",
    "    def size(self):\n",
    "        return len(self.stack)\n",
    "\n",
    "    def is_empty(self):\n",
    "        if self.stack == []:\n",
    "            return True\n",
    "        else:\n",
    "            return False\n",
    "        \n",
    "        \n"
   ]
  },
  {
   "cell_type": "code",
   "execution_count": null,
   "id": "objective-saint",
   "metadata": {},
   "outputs": [],
   "source": [
    "S = Stack()"
   ]
  },
  {
   "cell_type": "code",
   "execution_count": null,
   "id": "cathedral-captain",
   "metadata": {},
   "outputs": [],
   "source": [
    "#add 5 to stack\n",
    "S.push(5)"
   ]
  },
  {
   "cell_type": "code",
   "execution_count": null,
   "id": "irish-packing",
   "metadata": {},
   "outputs": [],
   "source": [
    "S.push(500)"
   ]
  },
  {
   "cell_type": "code",
   "execution_count": null,
   "id": "passive-nightlife",
   "metadata": {},
   "outputs": [],
   "source": [
    "S.push(5000)"
   ]
  },
  {
   "cell_type": "code",
   "execution_count": null,
   "id": "herbal-sponsorship",
   "metadata": {},
   "outputs": [],
   "source": [
    "#remove last element\n",
    "S.pop()"
   ]
  },
  {
   "cell_type": "code",
   "execution_count": null,
   "id": "greek-empire",
   "metadata": {},
   "outputs": [],
   "source": [
    "S.pop()"
   ]
  },
  {
   "cell_type": "code",
   "execution_count": null,
   "id": "stupid-astrology",
   "metadata": {},
   "outputs": [],
   "source": [
    "S.pop()"
   ]
  },
  {
   "cell_type": "code",
   "execution_count": null,
   "id": "improving-pursuit",
   "metadata": {},
   "outputs": [],
   "source": [
    "#plot running times\n",
    "\n",
    "plt.plot([5, 500, 5000], [1088, 1550, 1566], label='push')\n",
    "plt.plot([5, 500, 5000], [1467, 1444, 1600], label='pop')\n",
    "plt.xlabel(\"Increasing size\")\n",
    "plt.ylabel(\"Time (ns)\")\n",
    "plt.title(\"Running Times (ns) of push and pop operations with elements of increasing size\")\n",
    "plt.legend()\n",
    "plt.savefig('Stack_running_times.pdf')"
   ]
  },
  {
   "cell_type": "markdown",
   "id": "lucky-emphasis",
   "metadata": {},
   "source": [
    "## Time Complexity of push and pop operations\n",
    "\n",
    "Push and pop are also O(1) because they only work with one end of the data structure - the top of the stack and no loop is running in the programme. This is evident in the above graph."
   ]
  },
  {
   "cell_type": "markdown",
   "id": "burning-waters",
   "metadata": {},
   "source": [
    "## Part 2 Q2: Returned Values"
   ]
  },
  {
   "cell_type": "code",
   "execution_count": null,
   "id": "dated-guitar",
   "metadata": {},
   "outputs": [],
   "source": [
    "#show values returned after operations in assignment\n",
    "S = Stack()"
   ]
  },
  {
   "cell_type": "code",
   "execution_count": null,
   "id": "academic-sunglasses",
   "metadata": {},
   "outputs": [],
   "source": [
    "S.push(5)"
   ]
  },
  {
   "cell_type": "code",
   "execution_count": null,
   "id": "declared-paint",
   "metadata": {},
   "outputs": [],
   "source": [
    "S.push(3)"
   ]
  },
  {
   "cell_type": "code",
   "execution_count": null,
   "id": "exempt-award",
   "metadata": {},
   "outputs": [],
   "source": [
    "S.pop()"
   ]
  },
  {
   "cell_type": "code",
   "execution_count": null,
   "id": "known-matter",
   "metadata": {},
   "outputs": [],
   "source": [
    "S.push(2)"
   ]
  },
  {
   "cell_type": "code",
   "execution_count": null,
   "id": "eligible-hebrew",
   "metadata": {},
   "outputs": [],
   "source": [
    "S.push(8)"
   ]
  },
  {
   "cell_type": "code",
   "execution_count": null,
   "id": "miniature-folder",
   "metadata": {},
   "outputs": [],
   "source": [
    "S.pop()"
   ]
  },
  {
   "cell_type": "code",
   "execution_count": null,
   "id": "complete-format",
   "metadata": {},
   "outputs": [],
   "source": [
    "S.pop()"
   ]
  },
  {
   "cell_type": "code",
   "execution_count": null,
   "id": "leading-imagination",
   "metadata": {},
   "outputs": [],
   "source": [
    "S.push(9)"
   ]
  },
  {
   "cell_type": "code",
   "execution_count": null,
   "id": "contrary-tuning",
   "metadata": {},
   "outputs": [],
   "source": [
    "S.push(1)"
   ]
  },
  {
   "cell_type": "code",
   "execution_count": null,
   "id": "sharp-occupation",
   "metadata": {},
   "outputs": [],
   "source": [
    "S.pop()"
   ]
  },
  {
   "cell_type": "code",
   "execution_count": null,
   "id": "demonstrated-korean",
   "metadata": {},
   "outputs": [],
   "source": [
    "S.push(7)"
   ]
  },
  {
   "cell_type": "code",
   "execution_count": null,
   "id": "innovative-spray",
   "metadata": {},
   "outputs": [],
   "source": [
    "S.push(6)"
   ]
  },
  {
   "cell_type": "code",
   "execution_count": null,
   "id": "proper-healing",
   "metadata": {},
   "outputs": [],
   "source": [
    "S.pop()"
   ]
  },
  {
   "cell_type": "code",
   "execution_count": null,
   "id": "architectural-antenna",
   "metadata": {},
   "outputs": [],
   "source": [
    "S.pop()"
   ]
  },
  {
   "cell_type": "code",
   "execution_count": null,
   "id": "fifteen-desert",
   "metadata": {},
   "outputs": [],
   "source": [
    "S.push(4)"
   ]
  },
  {
   "cell_type": "code",
   "execution_count": null,
   "id": "elect-crowd",
   "metadata": {},
   "outputs": [],
   "source": [
    "S.pop()"
   ]
  },
  {
   "cell_type": "code",
   "execution_count": null,
   "id": "oriented-filename",
   "metadata": {},
   "outputs": [],
   "source": [
    "S.pop()"
   ]
  },
  {
   "cell_type": "code",
   "execution_count": null,
   "id": "noble-renaissance",
   "metadata": {},
   "outputs": [],
   "source": [
    "S.size()"
   ]
  },
  {
   "cell_type": "markdown",
   "id": "possible-highland",
   "metadata": {},
   "source": [
    "## Part 2 Q3 - Calculation\n",
    "\n",
    "Popped a total number of 10-3 = 7 elements, 3 were pops on empty exceptions so the pops do not change size of the stack, so only 7 pops did.\n",
    "\n",
    "Top operations do not change the size of the stack, and can be ignored.\n",
    "\n",
    "Therefore 35 - 7 = 28 is the total size of the stack."
   ]
  },
  {
   "cell_type": "markdown",
   "id": "monetary-selection",
   "metadata": {},
   "source": [
    "## Part 3 Q1 - Implementation of Queue ADT"
   ]
  },
  {
   "cell_type": "code",
   "execution_count": null,
   "id": "wooden-concentration",
   "metadata": {},
   "outputs": [],
   "source": [
    "#implement Queue class\n",
    "class Queue:\n",
    "\n",
    "    def __init__(self):\n",
    "        self.queue = []\n",
    "\n",
    "    def enqueue(self, item):\n",
    "        times = [] #create running times list\n",
    "        start = time.perf_counter_ns() #start timer\n",
    "        self.queue.append(item)\n",
    "        times.append((time.perf_counter_ns() - start)) #stop timer\n",
    "        print(\"running times:\", times)\n",
    "        print(\"values:\",self.queue)\n",
    "\n",
    "    def dequeue(self):\n",
    "        times = []\n",
    "        start = time.perf_counter_ns()\n",
    "        if len(self.queue) < 1:\n",
    "            return None\n",
    "        self.queue = self.queue[1:]\n",
    "        times.append((time.perf_counter_ns() - start))\n",
    "        print(\"running times:\", times)\n",
    "        return self.queue\n",
    "        print(\"values:\",self.queue)\n",
    "\n",
    "    def size(self):\n",
    "        return len(self.queue) \n",
    "    \n",
    "    def is_empty(self):\n",
    "        if self.queue == []:\n",
    "            return True\n",
    "        else:\n",
    "            return False"
   ]
  },
  {
   "cell_type": "code",
   "execution_count": null,
   "id": "numeric-indie",
   "metadata": {},
   "outputs": [],
   "source": [
    "#instantiate Queue class\n",
    "Q = Queue()"
   ]
  },
  {
   "cell_type": "code",
   "execution_count": null,
   "id": "herbal-relief",
   "metadata": {},
   "outputs": [],
   "source": [
    "#add 5 to queue\n",
    "#add increasing sizes of elements to evaluate running times\n",
    "Q.enqueue(5)"
   ]
  },
  {
   "cell_type": "code",
   "execution_count": null,
   "id": "measured-benchmark",
   "metadata": {},
   "outputs": [],
   "source": [
    "Q.enqueue(500)"
   ]
  },
  {
   "cell_type": "code",
   "execution_count": null,
   "id": "coordinate-damage",
   "metadata": {},
   "outputs": [],
   "source": [
    "Q.enqueue(5000)"
   ]
  },
  {
   "cell_type": "code",
   "execution_count": null,
   "id": "dominant-newark",
   "metadata": {},
   "outputs": [],
   "source": [
    "#remove element from queue and check running times when elements increase in size\n",
    "Q.dequeue()"
   ]
  },
  {
   "cell_type": "code",
   "execution_count": null,
   "id": "middle-psychology",
   "metadata": {},
   "outputs": [],
   "source": [
    "Q.dequeue()"
   ]
  },
  {
   "cell_type": "code",
   "execution_count": null,
   "id": "comparable-perception",
   "metadata": {},
   "outputs": [],
   "source": [
    "Q.dequeue()"
   ]
  },
  {
   "cell_type": "code",
   "execution_count": null,
   "id": "rational-therapy",
   "metadata": {},
   "outputs": [],
   "source": [
    "#plot running times\n",
    "\n",
    "plt.plot([5, 500, 5000], [1248, 1150, 1271], label='enqueue')\n",
    "plt.plot([5, 500, 5000], [2599, 3176, 2395], label='dequeue')\n",
    "plt.xlabel(\"Increasing size\")\n",
    "plt.ylabel(\"Time (ns)\")\n",
    "plt.title(\"Running Times (ns) of enqueue and dequeue operations with elements of increasing size\")\n",
    "plt.legend()\n",
    "plt.savefig('queue_running_times.pdf')"
   ]
  },
  {
   "cell_type": "markdown",
   "id": "wireless-passion",
   "metadata": {},
   "source": [
    "## Time Complexity of push and pop operations\n",
    "Time complexity of both operations enqueue() and dequeue() is O(1) as there is no loop in any of the operations.This is evident in the above graph."
   ]
  },
  {
   "cell_type": "markdown",
   "id": "isolated-collins",
   "metadata": {},
   "source": [
    "## Part 3 Q2: Returned Values"
   ]
  },
  {
   "cell_type": "code",
   "execution_count": null,
   "id": "theoretical-overhead",
   "metadata": {},
   "outputs": [],
   "source": [
    "#return values from the operations set in the assignment\n",
    "Q = Queue()"
   ]
  },
  {
   "cell_type": "code",
   "execution_count": null,
   "id": "thermal-complex",
   "metadata": {},
   "outputs": [],
   "source": [
    "Q.enqueue(5)"
   ]
  },
  {
   "cell_type": "code",
   "execution_count": null,
   "id": "supported-source",
   "metadata": {},
   "outputs": [],
   "source": [
    "Q.enqueue(3)"
   ]
  },
  {
   "cell_type": "code",
   "execution_count": null,
   "id": "amino-radical",
   "metadata": {},
   "outputs": [],
   "source": [
    "Q.dequeue()"
   ]
  },
  {
   "cell_type": "code",
   "execution_count": null,
   "id": "corrected-climate",
   "metadata": {},
   "outputs": [],
   "source": [
    "Q.enqueue(2)"
   ]
  },
  {
   "cell_type": "code",
   "execution_count": null,
   "id": "loved-archive",
   "metadata": {},
   "outputs": [],
   "source": [
    "Q.enqueue(8)"
   ]
  },
  {
   "cell_type": "code",
   "execution_count": null,
   "id": "cardiac-abuse",
   "metadata": {},
   "outputs": [],
   "source": [
    "Q.dequeue()"
   ]
  },
  {
   "cell_type": "code",
   "execution_count": null,
   "id": "painful-rebate",
   "metadata": {},
   "outputs": [],
   "source": [
    "Q.dequeue()"
   ]
  },
  {
   "cell_type": "code",
   "execution_count": null,
   "id": "breathing-absence",
   "metadata": {},
   "outputs": [],
   "source": [
    "Q.enqueue(9)"
   ]
  },
  {
   "cell_type": "code",
   "execution_count": null,
   "id": "southwest-relation",
   "metadata": {},
   "outputs": [],
   "source": [
    "Q.enqueue(1)"
   ]
  },
  {
   "cell_type": "code",
   "execution_count": null,
   "id": "regional-scoop",
   "metadata": {},
   "outputs": [],
   "source": [
    "Q.dequeue()"
   ]
  },
  {
   "cell_type": "code",
   "execution_count": null,
   "id": "adjusted-aggregate",
   "metadata": {},
   "outputs": [],
   "source": [
    "Q.enqueue(7)"
   ]
  },
  {
   "cell_type": "code",
   "execution_count": null,
   "id": "satellite-champion",
   "metadata": {},
   "outputs": [],
   "source": [
    "Q.enqueue(6)"
   ]
  },
  {
   "cell_type": "code",
   "execution_count": null,
   "id": "historic-resolution",
   "metadata": {},
   "outputs": [],
   "source": [
    "Q.dequeue()"
   ]
  },
  {
   "cell_type": "code",
   "execution_count": null,
   "id": "european-numbers",
   "metadata": {},
   "outputs": [],
   "source": [
    "Q.dequeue()"
   ]
  },
  {
   "cell_type": "code",
   "execution_count": null,
   "id": "listed-cement",
   "metadata": {},
   "outputs": [],
   "source": [
    "Q.enqueue(4)"
   ]
  },
  {
   "cell_type": "code",
   "execution_count": null,
   "id": "referenced-tumor",
   "metadata": {},
   "outputs": [],
   "source": [
    "Q.dequeue()"
   ]
  },
  {
   "cell_type": "code",
   "execution_count": null,
   "id": "advanced-writing",
   "metadata": {},
   "outputs": [],
   "source": [
    "Q.dequeue()"
   ]
  },
  {
   "cell_type": "markdown",
   "id": "recent-awareness",
   "metadata": {},
   "source": [
    "## Part 3 Q3 - Calculation\n",
    "\n",
    "Dequeued a total number of 15-5 = 10 elements, 5 were dequeued on empty exceptions so the dequeues do not change size of the queue, so only 10 dequeues did.\n",
    "\n",
    "Top operations do not change the size of the queue, and can be ignored.\n",
    "\n",
    "Therefore 50 - 10 = 40 is the total size of the queue."
   ]
  },
  {
   "cell_type": "markdown",
   "id": "classical-rhythm",
   "metadata": {},
   "source": [
    "## Conclusion\n",
    "\n",
    "* Linked Lists are a great alternative to arrays when arrays are not appropriate as the time complexity for insertion and removal of elements in lists is O(1) meaning it is constant, so increasing the size of elements to insert or remove in lists won't affect running times of programs.\n",
    "\n",
    "* Stacks and Queues can implement linked lists or arrays. The time complexity is also o(1) in stack push and pop operations and queue enqueue and dequeue operations as the operations involve adding elements to either the top of the stack or the end of the queue and no loops are used in the program."
   ]
  },
  {
   "cell_type": "code",
   "execution_count": null,
   "id": "convinced-surveillance",
   "metadata": {},
   "outputs": [],
   "source": []
  }
 ],
 "metadata": {
  "kernelspec": {
   "display_name": "Python 3",
   "language": "python",
   "name": "python3"
  },
  "language_info": {
   "codemirror_mode": {
    "name": "ipython",
    "version": 3
   },
   "file_extension": ".py",
   "mimetype": "text/x-python",
   "name": "python",
   "nbconvert_exporter": "python",
   "pygments_lexer": "ipython3",
   "version": "3.8.8"
  }
 },
 "nbformat": 4,
 "nbformat_minor": 5
}
